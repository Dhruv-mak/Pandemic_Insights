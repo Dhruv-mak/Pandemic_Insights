{
 "cells": [
  {
   "cell_type": "code",
   "execution_count": null,
   "metadata": {},
   "outputs": [],
   "source": [
    "import pandas as pd\n",
    "\n",
    "# Read the CSV file and store it in a DataFrame\n",
    "data = pd.read_csv('data.csv')\n",
    "\n",
    "# Find the number of null values in each column\n",
    "null_counts = data.isnull().sum()\n",
    "\n",
    "# Print the number of null values in each column\n",
    "print(null_counts)\n",
    "\n",
    "# Print the number of rows in the DataFrame\n",
    "print(\"Number of rows in the original DataFrame: %d\" % (data.shape[0]))\n",
    "\n",
    "# Select the rows in which Group is equal to \"By Month\"\n",
    "data = data[data[\"Group\"] == \"By Month\"]\n",
    "\n",
    "\n",
    "# select rows with null values in \"Flag\" column\n",
    "rows_with_null_flag = data[data[\"Flag\"].isnull()]"
   ]
  }
 ],
 "metadata": {
  "language_info": {
   "name": "python"
  }
 },
 "nbformat": 4,
 "nbformat_minor": 2
}
